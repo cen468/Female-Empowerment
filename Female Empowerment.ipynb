{
 "cells": [
  {
   "cell_type": "code",
   "execution_count": 33,
   "metadata": {
    "collapsed": true
   },
   "outputs": [],
   "source": [
    "#importing the proper packages for analysis\n",
    "import pandas as pd\n",
    "import numpy as np\n",
    "import matplotlib.pyplot as plt\n",
    "%matplotlib inline"
   ]
  },
  {
   "cell_type": "code",
   "execution_count": 34,
   "metadata": {
    "collapsed": true
   },
   "outputs": [],
   "source": [
    "#importing the data\n",
    "fe = pd.read_csv('/Users/cenunez/Dropbox/Personal/Female Empowerment/Female Empowerment.csv')"
   ]
  },
  {
   "cell_type": "markdown",
   "metadata": {},
   "source": [
    "After importing the data, I wanted to transform some of my variables into binary variables since they're not continuous and I wanted to measure their affect on responses."
   ]
  },
  {
   "cell_type": "code",
   "execution_count": 35,
   "metadata": {
    "collapsed": false,
    "scrolled": true
   },
   "outputs": [
    {
     "name": "stdout",
     "output_type": "stream",
     "text": [
      "<class 'pandas.core.frame.DataFrame'>\n",
      "RangeIndex: 112 entries, 0 to 111\n",
      "Data columns (total 39 columns):\n",
      "ID                                            112 non-null int64\n",
      "Empowerment Sent                              112 non-null object\n",
      "Gender Group Sent                             112 non-null object\n",
      "Race Group Sent                               112 non-null object\n",
      "Gender Comp Sent                              112 non-null object\n",
      "Race Comp Sent                                112 non-null object\n",
      "Improvement Sent                              112 non-null object\n",
      "Occupation/Title                              109 non-null object\n",
      "School                                        110 non-null object\n",
      "Cluster                                       112 non-null int64\n",
      "Gender Groups Y/N_No                          112 non-null float64\n",
      "Gender Groups Y/N_Yes                         112 non-null float64\n",
      "Gender Groups Y/N_n/a                         112 non-null float64\n",
      "Race Groups Y/N_No                            112 non-null float64\n",
      "Race Groups Y/N_Yes                           112 non-null float64\n",
      "Race Groups Y/N_n/a                           112 non-null float64\n",
      "Gender Comps Y/N_No                           112 non-null float64\n",
      "Gender Comps Y/N_Yes                          112 non-null float64\n",
      "Gender Comps Y/N_Yes, but                     112 non-null float64\n",
      "Gender Comps Y/N_n/a                          112 non-null float64\n",
      "Race Comps Y/N_No                             112 non-null float64\n",
      "Race Comps Y/N_Yes                            112 non-null float64\n",
      "Race Comps Y/N_Yes, but                       112 non-null float64\n",
      "Race Comps Y/N_n/a                            112 non-null float64\n",
      "Age_18 - 24                                   112 non-null float64\n",
      "Age_25 - 34                                   112 non-null float64\n",
      "Age_35 - 44                                   112 non-null float64\n",
      "Age_45 - 54                                   112 non-null float64\n",
      "Are you a current student?_No                 112 non-null float64\n",
      "Are you a current student?_Yes, Full-Time     112 non-null float64\n",
      "Are you a current student?_Yes, Part-time     112 non-null float64\n",
      "Gender_Female                                 112 non-null float64\n",
      "Gender_Male                                   112 non-null float64\n",
      "Education_Bachelor's Degree                   112 non-null float64\n",
      "Education_Doctorate Degree                    112 non-null float64\n",
      "Education_Graduate Degree                     112 non-null float64\n",
      "Education_High School Graduate                112 non-null float64\n",
      "Education_Juris Doctorate                     112 non-null float64\n",
      "Education_Some College / Associates Degree    112 non-null float64\n",
      "dtypes: float64(29), int64(2), object(8)\n",
      "memory usage: 34.2+ KB\n"
     ]
    }
   ],
   "source": [
    "#identifying the columns I want to transform into dummy variables\n",
    "cols_to_transform = ['Gender Groups Y/N', 'Race Groups Y/N', 'Gender Comps Y/N', 'Race Comps Y/N', 'Age', 'Are you a current student?', 'Gender', 'Education']\n",
    "fe_d = pd.get_dummies(fe, columns = cols_to_transform)\n",
    "fe_d.info()"
   ]
  },
  {
   "cell_type": "markdown",
   "metadata": {},
   "source": [
    "Now that the data is dummied out, I wanted to see if any clusters existed. I initially ran 3 clusters, then 4 and then 2, but 3 was the most distinct of the bunch. "
   ]
  },
  {
   "cell_type": "code",
   "execution_count": 36,
   "metadata": {
    "collapsed": false,
    "scrolled": true
   },
   "outputs": [
    {
     "data": {
      "text/plain": [
       "array([2, 1, 1, 2, 2, 0, 0, 1, 1, 1, 2, 1, 2, 2, 2, 1, 1, 1, 0, 1, 2, 2, 2,\n",
       "       2, 2, 2, 2, 1, 2, 0, 2, 0, 0, 0, 2, 1, 2, 0, 2, 2, 0, 0, 1, 2, 2, 0,\n",
       "       1, 2, 1, 2, 1, 2, 0, 1, 1, 2, 2, 2, 2, 1, 2, 0, 2, 0, 2, 2, 2, 2, 1,\n",
       "       2, 0, 0, 0, 0, 2, 0, 0, 0, 2, 2, 1, 1, 2, 0, 2, 0, 2, 0, 0, 0, 0, 2,\n",
       "       2, 2, 2, 2, 0, 2, 0, 0, 1, 2, 1, 1, 2, 1, 1, 1, 1, 1, 1, 1], dtype=int32)"
      ]
     },
     "execution_count": 36,
     "metadata": {},
     "output_type": "execute_result"
    }
   ],
   "source": [
    "#using k-means to cluster the data\n",
    "fed2 = fe_d.ix[:,9:37]\n",
    "fed3 = fed2.dropna(axis=0, how='any', thresh=None, subset=None, inplace=False)\n",
    "from sklearn import cluster\n",
    "km = cluster.KMeans(n_clusters=3) \n",
    "km1 = km.fit(fed3)\n",
    "km1.labels_"
   ]
  },
  {
   "cell_type": "markdown",
   "metadata": {},
   "source": [
    "After clustering the data I wanted to see how they related to one another based on a set of unknown variables. As you'll see in the images below, the green dots (cluster 1) are very prominent, while the red and purple dots (clusters 2 & 3) are more overlapped. "
   ]
  },
  {
   "cell_type": "code",
   "execution_count": 13,
   "metadata": {
    "collapsed": false
   },
   "outputs": [
    {
     "data": {
      "text/plain": [
       "<mpl_toolkits.mplot3d.art3d.Path3DCollection at 0x118fba048>"
      ]
     },
     "execution_count": 13,
     "metadata": {},
     "output_type": "execute_result"
    },
    {
     "data": {
      "image/png": "[encoded data removed]",
      "text/plain": [
       "<matplotlib.figure.Figure at 0x118c232e8>"
      ]
     },
     "metadata": {},
     "output_type": "display_data"
    },
    {
     "data": {
      "image/png": "[encoded data removed]",
      "text/plain": [
       "<matplotlib.figure.Figure at 0x118c1a8d0>"
      ]
     },
     "metadata": {},
     "output_type": "display_data"
    }
   ],
   "source": [
    "from sklearn.decomposition import PCA \n",
    "pca1 = PCA(n_components=) \n",
    "pca1.fit(fed3)\n",
    "d_pca = pca1.transform(fed3) \n",
    "d_pca.shape\n",
    "mycolors = km1.labels_[0:500]\n",
    "plt.scatter(d_pca[0:500, 0], d_pca[0:500, 1], c=mycolors)\n",
    "from mpl_toolkits.mplot3d import Axes3D \n",
    "import pylab\n",
    "fig = pylab.figure()\n",
    "ax = Axes3D(fig)\n",
    "ax.scatter(d_pca[0:500, 0], d_pca[0:500, 1], zs=d_pca[0:500, 2], c=mycolors)"
   ]
  },
  {
   "cell_type": "code",
   "execution_count": 76,
   "metadata": {
    "collapsed": false
   },
   "outputs": [],
   "source": [
    "cluster0 = fe.loc[fe['Cluster'] == 0]\n",
    "cluster1 = fe.loc[fe['Cluster'] == 1]\n",
    "cluster2 = fe.loc[fe['Cluster'] == 2]"
   ]
  },
  {
   "cell_type": "markdown",
   "metadata": {},
   "source": [
    "# Overview of Cluster 1#\n",
    "Looking at spread of:\n",
    "Gender, Age, Education, Student Status, Gender Groups, Race Groups, Gender Comps, Race Comps"
   ]
  },
  {
   "cell_type": "code",
   "execution_count": 61,
   "metadata": {
    "collapsed": false
   },
   "outputs": [
    {
     "data": {
      "text/plain": [
       "[('Female', 42), ('Male', 8)]"
      ]
     },
     "execution_count": 61,
     "metadata": {},
     "output_type": "execute_result"
    }
   ],
   "source": [
    "from collections import Counter\n",
    "Counter(cluster0['Gender']).most_common()"
   ]
  },
  {
   "cell_type": "code",
   "execution_count": 62,
   "metadata": {
    "collapsed": false
   },
   "outputs": [
    {
     "data": {
      "text/plain": [
       "[('25 - 34', 23), ('18 - 24', 19), ('45 - 54', 4), ('35 - 44', 4)]"
      ]
     },
     "execution_count": 62,
     "metadata": {},
     "output_type": "execute_result"
    }
   ],
   "source": [
    "# age\n",
    "Counter(cluster0['Age']).most_common()"
   ]
  },
  {
   "cell_type": "code",
   "execution_count": 63,
   "metadata": {
    "collapsed": false
   },
   "outputs": [
    {
     "data": {
      "text/plain": [
       "[(\"Bachelor's Degree\", 44),\n",
       " ('Graduate Degree', 4),\n",
       " ('Juris Doctorate', 1),\n",
       " ('Doctorate Degree', 1)]"
      ]
     },
     "execution_count": 63,
     "metadata": {},
     "output_type": "execute_result"
    }
   ],
   "source": [
    "Counter(cluster0['Education']).most_common()"
   ]
  },
  {
   "cell_type": "code",
   "execution_count": 70,
   "metadata": {
    "collapsed": false
   },
   "outputs": [
    {
     "data": {
      "text/plain": [
       "[('No', 47), ('Yes, Full-Time', 3)]"
      ]
     },
     "execution_count": 70,
     "metadata": {},
     "output_type": "execute_result"
    }
   ],
   "source": [
    "Counter(cluster0['Are you a current student?']).most_common()"
   ]
  },
  {
   "cell_type": "code",
   "execution_count": 67,
   "metadata": {
    "collapsed": false
   },
   "outputs": [
    {
     "data": {
      "text/plain": [
       "[('Yes', 42), ('No', 7), ('n/a', 1)]"
      ]
     },
     "execution_count": 67,
     "metadata": {},
     "output_type": "execute_result"
    }
   ],
   "source": [
    "Counter(cluster0['Gender Groups Y/N']).most_common()"
   ]
  },
  {
   "cell_type": "code",
   "execution_count": 68,
   "metadata": {
    "collapsed": false
   },
   "outputs": [
    {
     "data": {
      "text/plain": [
       "[('Yes', 41), ('No', 6), ('n/a', 3)]"
      ]
     },
     "execution_count": 68,
     "metadata": {},
     "output_type": "execute_result"
    }
   ],
   "source": [
    "Counter(cluster0['Race Groups Y/N']).most_common()"
   ]
  },
  {
   "cell_type": "code",
   "execution_count": 71,
   "metadata": {
    "collapsed": false
   },
   "outputs": [
    {
     "data": {
      "text/plain": [
       "[('No', 50)]"
      ]
     },
     "execution_count": 71,
     "metadata": {},
     "output_type": "execute_result"
    }
   ],
   "source": [
    "Counter(cluster0['Gender Comps Y/N']).most_common()"
   ]
  },
  {
   "cell_type": "code",
   "execution_count": 72,
   "metadata": {
    "collapsed": false
   },
   "outputs": [
    {
     "data": {
      "text/plain": [
       "[('No', 49), ('n/a', 1)]"
      ]
     },
     "execution_count": 72,
     "metadata": {},
     "output_type": "execute_result"
    }
   ],
   "source": [
    "Counter(cluster0['Race Comps Y/N']).most_common()"
   ]
  },
  {
   "cell_type": "markdown",
   "metadata": {},
   "source": [
    "Overall, cluster 1 is primarily female, and non-students. They are the largest cluster and are against gender and race specific competitions. "
   ]
  },
  {
   "cell_type": "markdown",
   "metadata": {},
   "source": [
    "# Overview of Cluster 2#\n",
    "Looking at spread of:\n",
    "Gender, Age, Education, Student Status, Gender Groups, Race Groups, Gender Comps, Race Comps"
   ]
  },
  {
   "cell_type": "code",
   "execution_count": 77,
   "metadata": {
    "collapsed": false
   },
   "outputs": [
    {
     "data": {
      "text/plain": [
       "[('Female', 22), ('Male', 10)]"
      ]
     },
     "execution_count": 77,
     "metadata": {},
     "output_type": "execute_result"
    }
   ],
   "source": [
    "Counter(cluster1['Gender']).most_common()"
   ]
  },
  {
   "cell_type": "code",
   "execution_count": 78,
   "metadata": {
    "collapsed": false
   },
   "outputs": [
    {
     "data": {
      "text/plain": [
       "[('18 - 24', 31), ('25 - 34', 1)]"
      ]
     },
     "execution_count": 78,
     "metadata": {},
     "output_type": "execute_result"
    }
   ],
   "source": [
    "Counter(cluster1['Age']).most_common()\n"
   ]
  },
  {
   "cell_type": "code",
   "execution_count": 84,
   "metadata": {
    "collapsed": false
   },
   "outputs": [
    {
     "data": {
      "text/plain": [
       "[('Some College / Associates Degree', 14),\n",
       " (\"Bachelor's Degree\", 8),\n",
       " ('Graduate Degree', 7),\n",
       " ('High School Graduate', 3)]"
      ]
     },
     "execution_count": 84,
     "metadata": {},
     "output_type": "execute_result"
    }
   ],
   "source": [
    "Counter(cluster1['Education']).most_common()"
   ]
  },
  {
   "cell_type": "code",
   "execution_count": 85,
   "metadata": {
    "collapsed": false
   },
   "outputs": [
    {
     "data": {
      "text/plain": [
       "[('Yes, Full-Time', 32)]"
      ]
     },
     "execution_count": 85,
     "metadata": {},
     "output_type": "execute_result"
    }
   ],
   "source": [
    "Counter(cluster1['Are you a current student?']).most_common()"
   ]
  },
  {
   "cell_type": "code",
   "execution_count": 86,
   "metadata": {
    "collapsed": false
   },
   "outputs": [
    {
     "data": {
      "text/plain": [
       "[('Yes', 22), ('No', 7), ('n/a', 3)]"
      ]
     },
     "execution_count": 86,
     "metadata": {},
     "output_type": "execute_result"
    }
   ],
   "source": [
    "Counter(cluster1['Gender Groups Y/N']).most_common()"
   ]
  },
  {
   "cell_type": "code",
   "execution_count": 87,
   "metadata": {
    "collapsed": false
   },
   "outputs": [
    {
     "data": {
      "text/plain": [
       "[('Yes', 22), ('No', 7), ('n/a', 3)]"
      ]
     },
     "execution_count": 87,
     "metadata": {},
     "output_type": "execute_result"
    }
   ],
   "source": [
    "Counter(cluster1['Race Groups Y/N']).most_common()"
   ]
  },
  {
   "cell_type": "code",
   "execution_count": 88,
   "metadata": {
    "collapsed": false
   },
   "outputs": [
    {
     "data": {
      "text/plain": [
       "[('No', 20), ('Yes', 10), ('Yes, but', 2)]"
      ]
     },
     "execution_count": 88,
     "metadata": {},
     "output_type": "execute_result"
    }
   ],
   "source": [
    "Counter(cluster1['Gender Comps Y/N']).most_common()"
   ]
  },
  {
   "cell_type": "code",
   "execution_count": 89,
   "metadata": {
    "collapsed": false
   },
   "outputs": [
    {
     "data": {
      "text/plain": [
       "[('No', 21), ('Yes', 6), ('Yes, but', 4), ('n/a', 1)]"
      ]
     },
     "execution_count": 89,
     "metadata": {},
     "output_type": "execute_result"
    }
   ],
   "source": [
    "Counter(cluster1['Race Comps Y/N']).most_common()"
   ]
  },
  {
   "cell_type": "markdown",
   "metadata": {},
   "source": [
    "Cluster 2 is comprised completely of full time students are are much more varied in their opinions on gender and race specific competitions and groups"
   ]
  },
  {
   "cell_type": "markdown",
   "metadata": {},
   "source": [
    "# Overview of Cluster 3#\n",
    "Looking at spread of:\n",
    "Gender, Age, Education, Student Status, Gender Groups, Race Groups, Gender Comps, Race Comps"
   ]
  },
  {
   "cell_type": "code",
   "execution_count": 90,
   "metadata": {
    "collapsed": false
   },
   "outputs": [
    {
     "data": {
      "text/plain": [
       "[('Female', 18), ('Male', 12)]"
      ]
     },
     "execution_count": 90,
     "metadata": {},
     "output_type": "execute_result"
    }
   ],
   "source": [
    "Counter(cluster2['Gender']).most_common()"
   ]
  },
  {
   "cell_type": "code",
   "execution_count": 91,
   "metadata": {
    "collapsed": false
   },
   "outputs": [
    {
     "data": {
      "text/plain": [
       "[('25 - 34', 17), ('18 - 24', 11), ('35 - 44', 2)]"
      ]
     },
     "execution_count": 91,
     "metadata": {},
     "output_type": "execute_result"
    }
   ],
   "source": [
    "Counter(cluster2['Age']).most_common()"
   ]
  },
  {
   "cell_type": "code",
   "execution_count": 92,
   "metadata": {
    "collapsed": false
   },
   "outputs": [
    {
     "data": {
      "text/plain": [
       "[(\"Bachelor's Degree\", 23), ('Graduate Degree', 7)]"
      ]
     },
     "execution_count": 92,
     "metadata": {},
     "output_type": "execute_result"
    }
   ],
   "source": [
    "Counter(cluster2['Education']).most_common()"
   ]
  },
  {
   "cell_type": "code",
   "execution_count": 96,
   "metadata": {
    "collapsed": false
   },
   "outputs": [
    {
     "data": {
      "text/plain": [
       "[('No', 26), ('Yes, Part-time', 2), ('Yes, Full-Time', 2)]"
      ]
     },
     "execution_count": 96,
     "metadata": {},
     "output_type": "execute_result"
    }
   ],
   "source": [
    "Counter(cluster2['Are you a current student?']).most_common()"
   ]
  },
  {
   "cell_type": "code",
   "execution_count": 97,
   "metadata": {
    "collapsed": false
   },
   "outputs": [
    {
     "data": {
      "text/plain": [
       "[('Yes', 30)]"
      ]
     },
     "execution_count": 97,
     "metadata": {},
     "output_type": "execute_result"
    }
   ],
   "source": [
    "Counter(cluster2['Gender Groups Y/N']).most_common()"
   ]
  },
  {
   "cell_type": "code",
   "execution_count": 98,
   "metadata": {
    "collapsed": false
   },
   "outputs": [
    {
     "data": {
      "text/plain": [
       "[('Yes', 30)]"
      ]
     },
     "execution_count": 98,
     "metadata": {},
     "output_type": "execute_result"
    }
   ],
   "source": [
    "Counter(cluster2['Race Groups Y/N']).most_common()"
   ]
  },
  {
   "cell_type": "code",
   "execution_count": 100,
   "metadata": {
    "collapsed": false
   },
   "outputs": [
    {
     "data": {
      "text/plain": [
       "[('Yes', 13), ('Yes, but', 12), ('n/a', 5)]"
      ]
     },
     "execution_count": 100,
     "metadata": {},
     "output_type": "execute_result"
    }
   ],
   "source": [
    "Counter(cluster2['Gender Comps Y/N']).most_common()"
   ]
  },
  {
   "cell_type": "code",
   "execution_count": 101,
   "metadata": {
    "collapsed": false
   },
   "outputs": [
    {
     "data": {
      "text/plain": [
       "[('Yes', 13), ('Yes, but', 10), ('No', 4), ('n/a', 3)]"
      ]
     },
     "execution_count": 101,
     "metadata": {},
     "output_type": "execute_result"
    }
   ],
   "source": [
    "Counter(cluster2['Race Comps Y/N']).most_common()"
   ]
  },
  {
   "cell_type": "markdown",
   "metadata": {},
   "source": [
    "Cluster 3 has no objection to gender specific groups or competitions. There is some waivering in their objections in race specific ocmpetitions, but generally they are for these specialized groups and competitions. "
   ]
  },
  {
   "cell_type": "markdown",
   "metadata": {},
   "source": [
    "# Breakdown by Gender #\n",
    "Aside from the differences among segments, I wanted to see if opinions differed by gender"
   ]
  },
  {
   "cell_type": "code",
   "execution_count": 109,
   "metadata": {
    "collapsed": true
   },
   "outputs": [],
   "source": [
    "male = fe.loc[fe['Gender'] == 'Male']\n",
    "female = fe.loc[fe['Gender'] == 'Female']\n"
   ]
  },
  {
   "cell_type": "markdown",
   "metadata": {},
   "source": [
    "## male ##"
   ]
  },
  {
   "cell_type": "code",
   "execution_count": 122,
   "metadata": {
    "collapsed": false
   },
   "outputs": [
    {
     "data": {
      "text/plain": [
       "[('18 - 24', 17), ('25 - 34', 12), ('35 - 44', 1)]"
      ]
     },
     "execution_count": 122,
     "metadata": {},
     "output_type": "execute_result"
    }
   ],
   "source": [
    "Counter(male['Age']).most_common()"
   ]
  },
  {
   "cell_type": "code",
   "execution_count": 123,
   "metadata": {
    "collapsed": false
   },
   "outputs": [
    {
     "data": {
      "text/plain": [
       "[(\"Bachelor's Degree\", 20),\n",
       " ('Some College / Associates Degree', 6),\n",
       " ('Graduate Degree', 2),\n",
       " ('High School Graduate', 2)]"
      ]
     },
     "execution_count": 123,
     "metadata": {},
     "output_type": "execute_result"
    }
   ],
   "source": [
    "Counter(male['Education']).most_common()"
   ]
  },
  {
   "cell_type": "code",
   "execution_count": 125,
   "metadata": {
    "collapsed": false
   },
   "outputs": [
    {
     "data": {
      "text/plain": [
       "[('No', 19), ('Yes, Full-Time', 10), ('Yes, Part-time', 1)]"
      ]
     },
     "execution_count": 125,
     "metadata": {},
     "output_type": "execute_result"
    }
   ],
   "source": [
    "Counter(male['Are you a current student?']).most_common()"
   ]
  },
  {
   "cell_type": "code",
   "execution_count": 112,
   "metadata": {
    "collapsed": false
   },
   "outputs": [
    {
     "data": {
      "text/plain": [
       "[('Yes', 23), ('No', 5), ('n/a', 2)]"
      ]
     },
     "execution_count": 112,
     "metadata": {},
     "output_type": "execute_result"
    }
   ],
   "source": [
    "Counter(male['Gender Groups Y/N']).most_common()"
   ]
  },
  {
   "cell_type": "code",
   "execution_count": 113,
   "metadata": {
    "collapsed": false
   },
   "outputs": [
    {
     "data": {
      "text/plain": [
       "[('Yes', 24), ('No', 4), ('n/a', 2)]"
      ]
     },
     "execution_count": 113,
     "metadata": {},
     "output_type": "execute_result"
    }
   ],
   "source": [
    "Counter(male['Race Groups Y/N']).most_common()"
   ]
  },
  {
   "cell_type": "code",
   "execution_count": 114,
   "metadata": {
    "collapsed": false
   },
   "outputs": [
    {
     "data": {
      "text/plain": [
       "[('No', 14), ('Yes', 8), ('Yes, but', 6), ('n/a', 2)]"
      ]
     },
     "execution_count": 114,
     "metadata": {},
     "output_type": "execute_result"
    }
   ],
   "source": [
    "Counter(male['Gender Comps Y/N']).most_common()"
   ]
  },
  {
   "cell_type": "code",
   "execution_count": 120,
   "metadata": {
    "collapsed": false
   },
   "outputs": [
    {
     "data": {
      "text/plain": [
       "[('No', 18), ('Yes', 6), ('n/a', 3), ('Yes, but', 3)]"
      ]
     },
     "execution_count": 120,
     "metadata": {},
     "output_type": "execute_result"
    }
   ],
   "source": [
    "Counter(male['Race Comps Y/N']).most_common()"
   ]
  },
  {
   "cell_type": "markdown",
   "metadata": {},
   "source": [
    "## female ##"
   ]
  },
  {
   "cell_type": "code",
   "execution_count": 126,
   "metadata": {
    "collapsed": false
   },
   "outputs": [
    {
     "data": {
      "text/plain": [
       "[('18 - 24', 44), ('25 - 34', 29), ('35 - 44', 5), ('45 - 54', 4)]"
      ]
     },
     "execution_count": 126,
     "metadata": {},
     "output_type": "execute_result"
    }
   ],
   "source": [
    "Counter(female['Age']).most_common()"
   ]
  },
  {
   "cell_type": "code",
   "execution_count": 127,
   "metadata": {
    "collapsed": false
   },
   "outputs": [
    {
     "data": {
      "text/plain": [
       "[(\"Bachelor's Degree\", 55),\n",
       " ('Graduate Degree', 16),\n",
       " ('Some College / Associates Degree', 8),\n",
       " ('Juris Doctorate', 1),\n",
       " ('High School Graduate', 1),\n",
       " ('Doctorate Degree', 1)]"
      ]
     },
     "execution_count": 127,
     "metadata": {},
     "output_type": "execute_result"
    }
   ],
   "source": [
    "Counter(female['Education']).most_common()"
   ]
  },
  {
   "cell_type": "code",
   "execution_count": 128,
   "metadata": {
    "collapsed": false
   },
   "outputs": [
    {
     "data": {
      "text/plain": [
       "[('No', 54), ('Yes, Full-Time', 27), ('Yes, Part-time', 1)]"
      ]
     },
     "execution_count": 128,
     "metadata": {},
     "output_type": "execute_result"
    }
   ],
   "source": [
    "Counter(female['Are you a current student?']).most_common()"
   ]
  },
  {
   "cell_type": "code",
   "execution_count": 117,
   "metadata": {
    "collapsed": false
   },
   "outputs": [
    {
     "data": {
      "text/plain": [
       "[('Yes', 71), ('No', 9), ('n/a', 2)]"
      ]
     },
     "execution_count": 117,
     "metadata": {},
     "output_type": "execute_result"
    }
   ],
   "source": [
    "Counter(female['Gender Groups Y/N']).most_common()"
   ]
  },
  {
   "cell_type": "code",
   "execution_count": 118,
   "metadata": {
    "collapsed": false
   },
   "outputs": [
    {
     "data": {
      "text/plain": [
       "[('Yes', 69), ('No', 9), ('n/a', 4)]"
      ]
     },
     "execution_count": 118,
     "metadata": {},
     "output_type": "execute_result"
    }
   ],
   "source": [
    "Counter(female['Race Groups Y/N']).most_common()"
   ]
  },
  {
   "cell_type": "code",
   "execution_count": 119,
   "metadata": {
    "collapsed": false
   },
   "outputs": [
    {
     "data": {
      "text/plain": [
       "[('No', 56), ('Yes', 15), ('Yes, but', 8), ('n/a', 3)]"
      ]
     },
     "execution_count": 119,
     "metadata": {},
     "output_type": "execute_result"
    }
   ],
   "source": [
    "Counter(female['Gender Comps Y/N']).most_common()"
   ]
  },
  {
   "cell_type": "code",
   "execution_count": 121,
   "metadata": {
    "collapsed": false
   },
   "outputs": [
    {
     "data": {
      "text/plain": [
       "[('No', 56), ('Yes', 13), ('Yes, but', 11), ('n/a', 2)]"
      ]
     },
     "execution_count": 121,
     "metadata": {},
     "output_type": "execute_result"
    }
   ],
   "source": [
    "Counter(female['Race Comps Y/N']).most_common()"
   ]
  },
  {
   "cell_type": "code",
   "execution_count": null,
   "metadata": {
    "collapsed": true
   },
   "outputs": [],
   "source": []
  }
 ],
 "metadata": {
  "anaconda-cloud": {},
  "kernelspec": {
   "display_name": "Python [default]",
   "language": "python",
   "name": "python3"
  },
  "language_info": {
   "codemirror_mode": {
    "name": "ipython",
    "version": 3
   },
   "file_extension": ".py",
   "mimetype": "text/x-python",
   "name": "python",
   "nbconvert_exporter": "python",
   "pygments_lexer": "ipython3",
   "version": "3.5.2"
  }
 },
 "nbformat": 4,
 "nbformat_minor": 1
}
